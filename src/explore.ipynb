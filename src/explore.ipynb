{
    "cells": [
        {
            "cell_type": "markdown",
            "metadata": {},
            "source": [
                "# Explore here"
            ]
        },
        {
            "cell_type": "code",
            "execution_count": 1,
            "metadata": {},
            "outputs": [],
            "source": [
                "import pandas as pd\n",
                "\n",
                "df = pd.read_excel(\"../datos_merged_1986_2023.xlsx\")"
            ]
        },
        {
            "cell_type": "code",
            "execution_count": 2,
            "metadata": {},
            "outputs": [
                {
                    "name": "stdout",
                    "output_type": "stream",
                    "text": [
                        "<class 'pandas.core.frame.DataFrame'>\n",
                        "RangeIndex: 11450 entries, 0 to 11449\n",
                        "Data columns (total 37 columns):\n",
                        " #   Column                      Non-Null Count  Dtype         \n",
                        "---  ------                      --------------  -----         \n",
                        " 0   Unnamed: 0.1                11450 non-null  int64         \n",
                        " 1   Unnamed: 0                  11450 non-null  int64         \n",
                        " 2   track_id                    11450 non-null  object        \n",
                        " 3   track_name                  11450 non-null  object        \n",
                        " 4   popularity                  11450 non-null  int64         \n",
                        " 5   available_markets           11449 non-null  object        \n",
                        " 6   disc_number                 11450 non-null  int64         \n",
                        " 7   duration_ms                 11450 non-null  int64         \n",
                        " 8   explicit                    11450 non-null  bool          \n",
                        " 9   track_number                11450 non-null  int64         \n",
                        " 10  href                        11450 non-null  object        \n",
                        " 11  album_id                    11450 non-null  object        \n",
                        " 12  album_name                  11450 non-null  object        \n",
                        " 13  album_release_date          11450 non-null  datetime64[ns]\n",
                        " 14  album_type                  11450 non-null  object        \n",
                        " 15  album_total_tracks          11450 non-null  int64         \n",
                        " 16  artists_names               11450 non-null  object        \n",
                        " 17  artists_ids                 11450 non-null  object        \n",
                        " 18  principal_artist_id         11450 non-null  object        \n",
                        " 19  principal_artist_name       11450 non-null  object        \n",
                        " 20  artist_genres               11333 non-null  object        \n",
                        " 21  principal_artist_followers  11449 non-null  float64       \n",
                        " 22  acousticness                11445 non-null  float64       \n",
                        " 23  analysis_url                11445 non-null  object        \n",
                        " 24  danceability                11445 non-null  float64       \n",
                        " 25  energy                      11445 non-null  float64       \n",
                        " 26  instrumentalness            11445 non-null  float64       \n",
                        " 27  key                         11445 non-null  float64       \n",
                        " 28  liveness                    11445 non-null  float64       \n",
                        " 29  loudness                    11445 non-null  float64       \n",
                        " 30  mode                        11445 non-null  float64       \n",
                        " 31  speechiness                 11445 non-null  float64       \n",
                        " 32  tempo                       11445 non-null  float64       \n",
                        " 33  time_signature              11445 non-null  float64       \n",
                        " 34  valence                     11445 non-null  float64       \n",
                        " 35  year                        11450 non-null  int64         \n",
                        " 36  duration_min                11450 non-null  float64       \n",
                        "dtypes: bool(1), datetime64[ns](1), float64(14), int64(8), object(13)\n",
                        "memory usage: 3.2+ MB\n"
                    ]
                }
            ],
            "source": [
                "df.info()"
            ]
        },
        {
            "cell_type": "code",
            "execution_count": 3,
            "metadata": {},
            "outputs": [],
            "source": [
                "df[\"year_s\"] = df[\"year\"].astype(str)\n",
                "df[\"duration_ms_s\"] = df[\"duration_ms\"].astype(str)\n",
                "df[\"popularity_s\"] = df[\"popularity\"].astype(str)\n",
                "\n",
                "\n",
                "df[\"tags\"]= df[\"track_name\"] + \" \" + df[\"popularity_s\"] + \" \" + df[\"duration_ms_s\"] + \" \"  + df[\"year_s\"] + \" \"  + df[\"artist_genres\"]\n",
                "\n",
                "\n",
                "df['tags'] = df['tags'].apply(lambda x: str(x).replace(\";\",\" \"))"
            ]
        },
        {
            "cell_type": "code",
            "execution_count": 4,
            "metadata": {},
            "outputs": [
                {
                    "data": {
                        "text/plain": [
                            "'True Colors 73 227600 1986 dance pop new wave pop permanent wave soft rock'"
                        ]
                    },
                    "execution_count": 4,
                    "metadata": {},
                    "output_type": "execute_result"
                }
            ],
            "source": [
                "df.iloc[0].tags"
            ]
        },
        {
            "cell_type": "code",
            "execution_count": 5,
            "metadata": {},
            "outputs": [
                {
                    "data": {
                        "text/html": [
                            "<style>#sk-container-id-1 {color: black;}#sk-container-id-1 pre{padding: 0;}#sk-container-id-1 div.sk-toggleable {background-color: white;}#sk-container-id-1 label.sk-toggleable__label {cursor: pointer;display: block;width: 100%;margin-bottom: 0;padding: 0.3em;box-sizing: border-box;text-align: center;}#sk-container-id-1 label.sk-toggleable__label-arrow:before {content: \"▸\";float: left;margin-right: 0.25em;color: #696969;}#sk-container-id-1 label.sk-toggleable__label-arrow:hover:before {color: black;}#sk-container-id-1 div.sk-estimator:hover label.sk-toggleable__label-arrow:before {color: black;}#sk-container-id-1 div.sk-toggleable__content {max-height: 0;max-width: 0;overflow: hidden;text-align: left;background-color: #f0f8ff;}#sk-container-id-1 div.sk-toggleable__content pre {margin: 0.2em;color: black;border-radius: 0.25em;background-color: #f0f8ff;}#sk-container-id-1 input.sk-toggleable__control:checked~div.sk-toggleable__content {max-height: 200px;max-width: 100%;overflow: auto;}#sk-container-id-1 input.sk-toggleable__control:checked~label.sk-toggleable__label-arrow:before {content: \"▾\";}#sk-container-id-1 div.sk-estimator input.sk-toggleable__control:checked~label.sk-toggleable__label {background-color: #d4ebff;}#sk-container-id-1 div.sk-label input.sk-toggleable__control:checked~label.sk-toggleable__label {background-color: #d4ebff;}#sk-container-id-1 input.sk-hidden--visually {border: 0;clip: rect(1px 1px 1px 1px);clip: rect(1px, 1px, 1px, 1px);height: 1px;margin: -1px;overflow: hidden;padding: 0;position: absolute;width: 1px;}#sk-container-id-1 div.sk-estimator {font-family: monospace;background-color: #f0f8ff;border: 1px dotted black;border-radius: 0.25em;box-sizing: border-box;margin-bottom: 0.5em;}#sk-container-id-1 div.sk-estimator:hover {background-color: #d4ebff;}#sk-container-id-1 div.sk-parallel-item::after {content: \"\";width: 100%;border-bottom: 1px solid gray;flex-grow: 1;}#sk-container-id-1 div.sk-label:hover label.sk-toggleable__label {background-color: #d4ebff;}#sk-container-id-1 div.sk-serial::before {content: \"\";position: absolute;border-left: 1px solid gray;box-sizing: border-box;top: 0;bottom: 0;left: 50%;z-index: 0;}#sk-container-id-1 div.sk-serial {display: flex;flex-direction: column;align-items: center;background-color: white;padding-right: 0.2em;padding-left: 0.2em;position: relative;}#sk-container-id-1 div.sk-item {position: relative;z-index: 1;}#sk-container-id-1 div.sk-parallel {display: flex;align-items: stretch;justify-content: center;background-color: white;position: relative;}#sk-container-id-1 div.sk-item::before, #sk-container-id-1 div.sk-parallel-item::before {content: \"\";position: absolute;border-left: 1px solid gray;box-sizing: border-box;top: 0;bottom: 0;left: 50%;z-index: -1;}#sk-container-id-1 div.sk-parallel-item {display: flex;flex-direction: column;z-index: 1;position: relative;background-color: white;}#sk-container-id-1 div.sk-parallel-item:first-child::after {align-self: flex-end;width: 50%;}#sk-container-id-1 div.sk-parallel-item:last-child::after {align-self: flex-start;width: 50%;}#sk-container-id-1 div.sk-parallel-item:only-child::after {width: 0;}#sk-container-id-1 div.sk-dashed-wrapped {border: 1px dashed gray;margin: 0 0.4em 0.5em 0.4em;box-sizing: border-box;padding-bottom: 0.4em;background-color: white;}#sk-container-id-1 div.sk-label label {font-family: monospace;font-weight: bold;display: inline-block;line-height: 1.2em;}#sk-container-id-1 div.sk-label-container {text-align: center;}#sk-container-id-1 div.sk-container {/* jupyter's `normalize.less` sets `[hidden] { display: none; }` but bootstrap.min.css set `[hidden] { display: none !important; }` so we also need the `!important` here to be able to override the default hidden behavior on the sphinx rendered scikit-learn.org. See: https://github.com/scikit-learn/scikit-learn/issues/21755 */display: inline-block !important;position: relative;}#sk-container-id-1 div.sk-text-repr-fallback {display: none;}</style><div id=\"sk-container-id-1\" class=\"sk-top-container\"><div class=\"sk-text-repr-fallback\"><pre>NearestNeighbors(metric=&#x27;cosine&#x27;, n_neighbors=6)</pre><b>In a Jupyter environment, please rerun this cell to show the HTML representation or trust the notebook. <br />On GitHub, the HTML representation is unable to render, please try loading this page with nbviewer.org.</b></div><div class=\"sk-container\" hidden><div class=\"sk-item\"><div class=\"sk-estimator sk-toggleable\"><input class=\"sk-toggleable__control sk-hidden--visually\" id=\"sk-estimator-id-1\" type=\"checkbox\" checked><label for=\"sk-estimator-id-1\" class=\"sk-toggleable__label sk-toggleable__label-arrow\">NearestNeighbors</label><div class=\"sk-toggleable__content\"><pre>NearestNeighbors(metric=&#x27;cosine&#x27;, n_neighbors=6)</pre></div></div></div></div></div>"
                        ],
                        "text/plain": [
                            "NearestNeighbors(metric='cosine', n_neighbors=6)"
                        ]
                    },
                    "execution_count": 5,
                    "metadata": {},
                    "output_type": "execute_result"
                }
            ],
            "source": [
                "from sklearn.feature_extraction. text import TfidfVectorizer\n",
                "from sklearn.neighbors import NearestNeighbors\n",
                "\n",
                "vectorizer = TfidfVectorizer()\n",
                "tfidf_matrix = vectorizer.fit_transform(df[\"tags\"])\n",
                "\n",
                "model = NearestNeighbors(n_neighbors=6, algorithm=\"auto\", metric=\"cosine\")\n",
                "model.fit(tfidf_matrix)"
            ]
        },
        {
            "cell_type": "code",
            "execution_count": 10,
            "metadata": {},
            "outputs": [],
            "source": [
                "def lista_canciones (cancion):\n",
                "    indice_cancion = df[df[\"track_name\"] == cancion].index[0]\n",
                "    distancia, indices = model.kneighbors(tfidf_matrix[indice_cancion])\n",
                "    canciones_similares = [(df[\"track_name\"] [i], distancia[0][j]) for j, i in enumerate(indices[0])]\n",
                "    return canciones_similares[1:]"
            ]
        },
        {
            "cell_type": "code",
            "execution_count": 11,
            "metadata": {},
            "outputs": [
                {
                    "name": "stdout",
                    "output_type": "stream",
                    "text": [
                        "Recomendaciones para 'Raining Blood'\n",
                        "- Canción: Angel Of Death\n",
                        "- Canción: Postmortem\n",
                        "- Canción: South Of Heaven\n",
                        "- Canción: South Of Heaven\n",
                        "- Canción: War Ensemble\n"
                    ]
                }
            ],
            "source": [
                "cancion_input = 'Raining Blood'\n",
                "recomendaciones = lista_canciones(cancion_input)\n",
                "print(\"Recomendaciones para '{}'\".format(cancion_input))\n",
                "for cancion, distancia in recomendaciones:\n",
                "    print(\"- Canción: {}\".format(cancion))\n"
            ]
        },
        {
            "cell_type": "code",
            "execution_count": 14,
            "metadata": {},
            "outputs": [],
            "source": [
                "def str_canciones_recomendadas(cancion_input):\n",
                "    recomendaciones = lista_canciones(cancion_input)\n",
                "    resultado = \"Recomendaciones para\" + \"<br />\"\n",
                "\n",
                "    for cancion, distancia in recomendaciones:\n",
                "        resultado = resultado+\"-Canción: \"+cancion+\"<br />\"\n",
                "        #print(\"- Canción: {}\".format(cancion))\n",
                "    return resultado"
            ]
        },
        {
            "cell_type": "code",
            "execution_count": 15,
            "metadata": {},
            "outputs": [
                {
                    "name": "stdout",
                    "output_type": "stream",
                    "text": [
                        "Recomendaciones para<br />-Canción: Big Love - 2017 Remaster<br />-Canción: Shake Me<br />-Canción: Talk to Me<br />-Canción: Take Me Home Tonight<br />-Canción: Rock Me<br />\n"
                    ]
                }
            ],
            "source": [
                "print(str_canciones_recomendadas(\"Talk Dirty To Me\"))"
            ]
        },
        {
            "cell_type": "code",
            "execution_count": 16,
            "metadata": {},
            "outputs": [],
            "source": [
                "df.to_csv(\"datos_canciones_tags.csv\")"
            ]
        },
        {
            "cell_type": "code",
            "execution_count": null,
            "metadata": {},
            "outputs": [],
            "source": [
                "from pickle import dump\n",
                "\n",
                "dump(model, open(\"nn_6_auto_cosine.model\", \"wb\"))"
            ]
        }
    ],
    "metadata": {
        "kernelspec": {
            "display_name": "Python 3.8.13 64-bit ('3.8.13')",
            "language": "python",
            "name": "python3"
        },
        "language_info": {
            "codemirror_mode": {
                "name": "ipython",
                "version": 3
            },
            "file_extension": ".py",
            "mimetype": "text/x-python",
            "name": "python",
            "nbconvert_exporter": "python",
            "pygments_lexer": "ipython3",
            "version": "3.11.4"
        },
        "orig_nbformat": 4,
        "vscode": {
            "interpreter": {
                "hash": "110cc1dee26208153f2972f08a2ad52b6a56238dc66d48e87fb757ef2996db56"
            }
        }
    },
    "nbformat": 4,
    "nbformat_minor": 2
}
